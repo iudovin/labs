{
 "cells": [
  {
   "cell_type": "code",
   "execution_count": 2,
   "metadata": {},
   "outputs": [],
   "source": [
    "import pandas as pd"
   ]
  },
  {
   "cell_type": "code",
   "execution_count": 3,
   "metadata": {},
   "outputs": [],
   "source": [
    "empty_data = pd.read_csv('empty_data.csv', header=0, sep=';')\n",
    "al_data = pd.read_csv('al_data.csv', header=0, sep=';')\n",
    "fe_data = pd.read_csv('fe_data.csv', header=0, sep=';')"
   ]
  },
  {
   "cell_type": "code",
   "execution_count": 4,
   "metadata": {},
   "outputs": [
    {
     "data": {
      "text/html": [
       "<div>\n",
       "<style scoped>\n",
       "    .dataframe tbody tr th:only-of-type {\n",
       "        vertical-align: middle;\n",
       "    }\n",
       "\n",
       "    .dataframe tbody tr th {\n",
       "        vertical-align: top;\n",
       "    }\n",
       "\n",
       "    .dataframe thead th {\n",
       "        text-align: right;\n",
       "    }\n",
       "</style>\n",
       "<table border=\"1\" class=\"dataframe\">\n",
       "  <thead>\n",
       "    <tr style=\"text-align: right;\">\n",
       "      <th></th>\n",
       "      <th>dR</th>\n",
       "      <th>dt</th>\n",
       "    </tr>\n",
       "  </thead>\n",
       "  <tbody>\n",
       "    <tr>\n",
       "      <th>0</th>\n",
       "      <td>0,1</td>\n",
       "      <td>1:16</td>\n",
       "    </tr>\n",
       "    <tr>\n",
       "      <th>1</th>\n",
       "      <td>0,2</td>\n",
       "      <td>1:26</td>\n",
       "    </tr>\n",
       "    <tr>\n",
       "      <th>2</th>\n",
       "      <td>0,3</td>\n",
       "      <td>1:33</td>\n",
       "    </tr>\n",
       "    <tr>\n",
       "      <th>3</th>\n",
       "      <td>0,4</td>\n",
       "      <td>1:45</td>\n",
       "    </tr>\n",
       "    <tr>\n",
       "      <th>4</th>\n",
       "      <td>0,5</td>\n",
       "      <td>1:47</td>\n",
       "    </tr>\n",
       "    <tr>\n",
       "      <th>5</th>\n",
       "      <td>0,6</td>\n",
       "      <td>1:57</td>\n",
       "    </tr>\n",
       "    <tr>\n",
       "      <th>6</th>\n",
       "      <td>0,7</td>\n",
       "      <td>2:01</td>\n",
       "    </tr>\n",
       "    <tr>\n",
       "      <th>7</th>\n",
       "      <td>0,8</td>\n",
       "      <td>2:03</td>\n",
       "    </tr>\n",
       "    <tr>\n",
       "      <th>8</th>\n",
       "      <td>0,9</td>\n",
       "      <td>2:16</td>\n",
       "    </tr>\n",
       "    <tr>\n",
       "      <th>9</th>\n",
       "      <td>1</td>\n",
       "      <td>2:22</td>\n",
       "    </tr>\n",
       "    <tr>\n",
       "      <th>10</th>\n",
       "      <td>1,1</td>\n",
       "      <td>2:34</td>\n",
       "    </tr>\n",
       "    <tr>\n",
       "      <th>11</th>\n",
       "      <td>1,2</td>\n",
       "      <td>2:36</td>\n",
       "    </tr>\n",
       "    <tr>\n",
       "      <th>12</th>\n",
       "      <td>1,3</td>\n",
       "      <td>2:45</td>\n",
       "    </tr>\n",
       "    <tr>\n",
       "      <th>13</th>\n",
       "      <td>1,4</td>\n",
       "      <td>3:00</td>\n",
       "    </tr>\n",
       "  </tbody>\n",
       "</table>\n",
       "</div>"
      ],
      "text/plain": [
       "     dR    dt\n",
       "0   0,1  1:16\n",
       "1   0,2  1:26\n",
       "2   0,3  1:33\n",
       "3   0,4  1:45\n",
       "4   0,5  1:47\n",
       "5   0,6  1:57\n",
       "6   0,7  2:01\n",
       "7   0,8  2:03\n",
       "8   0,9  2:16\n",
       "9     1  2:22\n",
       "10  1,1  2:34\n",
       "11  1,2  2:36\n",
       "12  1,3  2:45\n",
       "13  1,4  3:00"
      ]
     },
     "execution_count": 4,
     "metadata": {},
     "output_type": "execute_result"
    }
   ],
   "source": [
    "empty_data"
   ]
  },
  {
   "cell_type": "code",
   "execution_count": 5,
   "metadata": {},
   "outputs": [
    {
     "data": {
      "text/html": [
       "<div>\n",
       "<style scoped>\n",
       "    .dataframe tbody tr th:only-of-type {\n",
       "        vertical-align: middle;\n",
       "    }\n",
       "\n",
       "    .dataframe tbody tr th {\n",
       "        vertical-align: top;\n",
       "    }\n",
       "\n",
       "    .dataframe thead th {\n",
       "        text-align: right;\n",
       "    }\n",
       "</style>\n",
       "<table border=\"1\" class=\"dataframe\">\n",
       "  <thead>\n",
       "    <tr style=\"text-align: right;\">\n",
       "      <th></th>\n",
       "      <th>dR</th>\n",
       "      <th>dt</th>\n",
       "    </tr>\n",
       "  </thead>\n",
       "  <tbody>\n",
       "    <tr>\n",
       "      <th>0</th>\n",
       "      <td>0,1</td>\n",
       "      <td>2:39</td>\n",
       "    </tr>\n",
       "    <tr>\n",
       "      <th>1</th>\n",
       "      <td>0,2</td>\n",
       "      <td>2:08</td>\n",
       "    </tr>\n",
       "    <tr>\n",
       "      <th>2</th>\n",
       "      <td>0,3</td>\n",
       "      <td>2:17</td>\n",
       "    </tr>\n",
       "    <tr>\n",
       "      <th>3</th>\n",
       "      <td>0,4</td>\n",
       "      <td>2:30</td>\n",
       "    </tr>\n",
       "    <tr>\n",
       "      <th>4</th>\n",
       "      <td>0,5</td>\n",
       "      <td>2:44</td>\n",
       "    </tr>\n",
       "    <tr>\n",
       "      <th>5</th>\n",
       "      <td>0,6</td>\n",
       "      <td>2:34</td>\n",
       "    </tr>\n",
       "    <tr>\n",
       "      <th>6</th>\n",
       "      <td>0,7</td>\n",
       "      <td>2:58</td>\n",
       "    </tr>\n",
       "    <tr>\n",
       "      <th>7</th>\n",
       "      <td>0,8</td>\n",
       "      <td>3:01</td>\n",
       "    </tr>\n",
       "  </tbody>\n",
       "</table>\n",
       "</div>"
      ],
      "text/plain": [
       "    dR    dt\n",
       "0  0,1  2:39\n",
       "1  0,2  2:08\n",
       "2  0,3  2:17\n",
       "3  0,4  2:30\n",
       "4  0,5  2:44\n",
       "5  0,6  2:34\n",
       "6  0,7  2:58\n",
       "7  0,8  3:01"
      ]
     },
     "execution_count": 5,
     "metadata": {},
     "output_type": "execute_result"
    }
   ],
   "source": [
    "al_data"
   ]
  },
  {
   "cell_type": "code",
   "execution_count": 6,
   "metadata": {},
   "outputs": [
    {
     "data": {
      "text/html": [
       "<div>\n",
       "<style scoped>\n",
       "    .dataframe tbody tr th:only-of-type {\n",
       "        vertical-align: middle;\n",
       "    }\n",
       "\n",
       "    .dataframe tbody tr th {\n",
       "        vertical-align: top;\n",
       "    }\n",
       "\n",
       "    .dataframe thead th {\n",
       "        text-align: right;\n",
       "    }\n",
       "</style>\n",
       "<table border=\"1\" class=\"dataframe\">\n",
       "  <thead>\n",
       "    <tr style=\"text-align: right;\">\n",
       "      <th></th>\n",
       "      <th>dR</th>\n",
       "      <th>dt</th>\n",
       "    </tr>\n",
       "  </thead>\n",
       "  <tbody>\n",
       "    <tr>\n",
       "      <th>0</th>\n",
       "      <td>0,1</td>\n",
       "      <td>1:51</td>\n",
       "    </tr>\n",
       "    <tr>\n",
       "      <th>1</th>\n",
       "      <td>0,2</td>\n",
       "      <td>2:13</td>\n",
       "    </tr>\n",
       "    <tr>\n",
       "      <th>2</th>\n",
       "      <td>0,3</td>\n",
       "      <td>2:24</td>\n",
       "    </tr>\n",
       "    <tr>\n",
       "      <th>3</th>\n",
       "      <td>0,4</td>\n",
       "      <td>2:29</td>\n",
       "    </tr>\n",
       "    <tr>\n",
       "      <th>4</th>\n",
       "      <td>0,5</td>\n",
       "      <td>2:41</td>\n",
       "    </tr>\n",
       "    <tr>\n",
       "      <th>5</th>\n",
       "      <td>0,6</td>\n",
       "      <td>2:44</td>\n",
       "    </tr>\n",
       "  </tbody>\n",
       "</table>\n",
       "</div>"
      ],
      "text/plain": [
       "    dR    dt\n",
       "0  0,1  1:51\n",
       "1  0,2  2:13\n",
       "2  0,3  2:24\n",
       "3  0,4  2:29\n",
       "4  0,5  2:41\n",
       "5  0,6  2:44"
      ]
     },
     "execution_count": 6,
     "metadata": {},
     "output_type": "execute_result"
    }
   ],
   "source": [
    "fe_data"
   ]
  },
  {
   "cell_type": "code",
   "execution_count": 7,
   "metadata": {},
   "outputs": [],
   "source": [
    "import numpy as np"
   ]
  },
  {
   "cell_type": "code",
   "execution_count": 8,
   "metadata": {},
   "outputs": [],
   "source": [
    "def str_to_seconds(t):\n",
    "    if type(t) is not int:\n",
    "        m, s = map(int, t.split(':'))\n",
    "        return 60 * m + s\n",
    "    else:\n",
    "        return t"
   ]
  },
  {
   "cell_type": "code",
   "execution_count": 9,
   "metadata": {},
   "outputs": [],
   "source": [
    "def convert1(a):\n",
    "    s = 0\n",
    "    for i in range(len(a)):\n",
    "        if type(a[i][0]) is not float:\n",
    "            a[i][0] = float(a[i][0].replace(',', '.'))\n",
    "        s += str_to_seconds(a[i][1])\n",
    "        a[i][1] = s"
   ]
  },
  {
   "cell_type": "code",
   "execution_count": 10,
   "metadata": {},
   "outputs": [
    {
     "data": {
      "text/plain": [
       "array([[0.1, 76],\n",
       "       [0.2, 162],\n",
       "       [0.3, 255],\n",
       "       [0.4, 360],\n",
       "       [0.5, 467],\n",
       "       [0.6, 584],\n",
       "       [0.7, 705],\n",
       "       [0.8, 828],\n",
       "       [0.9, 964],\n",
       "       [1.0, 1106],\n",
       "       [1.1, 1260],\n",
       "       [1.2, 1416],\n",
       "       [1.3, 1581],\n",
       "       [1.4, 1761]], dtype=object)"
      ]
     },
     "execution_count": 10,
     "metadata": {},
     "output_type": "execute_result"
    }
   ],
   "source": [
    "emp1 = np.array(empty_data)\n",
    "convert1(emp1)\n",
    "emp1"
   ]
  },
  {
   "cell_type": "code",
   "execution_count": 11,
   "metadata": {},
   "outputs": [
    {
     "data": {
      "text/plain": [
       "array([[0.1, 159],\n",
       "       [0.2, 287],\n",
       "       [0.3, 424],\n",
       "       [0.4, 574],\n",
       "       [0.5, 738],\n",
       "       [0.6, 892],\n",
       "       [0.7, 1070],\n",
       "       [0.8, 1251]], dtype=object)"
      ]
     },
     "execution_count": 11,
     "metadata": {},
     "output_type": "execute_result"
    }
   ],
   "source": [
    "al1 = np.array(al_data)\n",
    "convert1(al1)\n",
    "al1"
   ]
  },
  {
   "cell_type": "code",
   "execution_count": 12,
   "metadata": {},
   "outputs": [
    {
     "data": {
      "text/plain": [
       "array([[0.1, 111],\n",
       "       [0.2, 244],\n",
       "       [0.3, 388],\n",
       "       [0.4, 537],\n",
       "       [0.5, 698],\n",
       "       [0.6, 862]], dtype=object)"
      ]
     },
     "execution_count": 12,
     "metadata": {},
     "output_type": "execute_result"
    }
   ],
   "source": [
    "fe1 = np.array(fe_data)\n",
    "convert1(fe1)\n",
    "fe1"
   ]
  },
  {
   "cell_type": "code",
   "execution_count": 13,
   "metadata": {},
   "outputs": [],
   "source": [
    "%matplotlib inline"
   ]
  },
  {
   "cell_type": "code",
   "execution_count": 14,
   "metadata": {},
   "outputs": [],
   "source": [
    "import matplotlib.pyplot as plt"
   ]
  },
  {
   "cell_type": "code",
   "execution_count": 15,
   "metadata": {},
   "outputs": [
    {
     "data": {
      "text/plain": [
       "[<matplotlib.lines.Line2D at 0x115f99588>]"
      ]
     },
     "execution_count": 15,
     "metadata": {},
     "output_type": "execute_result"
    },
    {
     "data": {
      "image/png": "[encoded data removed]",
      "text/plain": [
       "<Figure size 432x288 with 1 Axes>"
      ]
     },
     "metadata": {
      "needs_background": "light"
     },
     "output_type": "display_data"
    }
   ],
   "source": [
    "emp1 = np.transpose(emp1)\n",
    "plt.plot(emp1[1], emp1[0])"
   ]
  },
  {
   "cell_type": "code",
   "execution_count": 36,
   "metadata": {},
   "outputs": [
    {
     "data": {
      "text/plain": [
       "[<matplotlib.lines.Line2D at 0x116603a20>]"
      ]
     },
     "execution_count": 36,
     "metadata": {},
     "output_type": "execute_result"
    },
    {
     "data": {
      "image/png": "[encoded data removed]",
      "text/plain": [
       "<Figure size 432x288 with 1 Axes>"
      ]
     },
     "metadata": {
      "needs_background": "light"
     },
     "output_type": "display_data"
    }
   ],
   "source": [
    "al1 = np.transpose(al1)\n",
    "plt.plot(al1[1], al1[0])"
   ]
  },
  {
   "cell_type": "code",
   "execution_count": 37,
   "metadata": {},
   "outputs": [
    {
     "data": {
      "text/plain": [
       "[<matplotlib.lines.Line2D at 0x1166699e8>]"
      ]
     },
     "execution_count": 37,
     "metadata": {},
     "output_type": "execute_result"
    },
    {
     "data": {
      "image/png": "[encoded data removed]",
      "text/plain": [
       "<Figure size 432x288 with 1 Axes>"
      ]
     },
     "metadata": {
      "needs_background": "light"
     },
     "output_type": "display_data"
    }
   ],
   "source": [
    "fe1 = np.transpose(fe1)\n",
    "plt.plot(fe1[1], fe1[0])"
   ]
  },
  {
   "cell_type": "code",
   "execution_count": 38,
   "metadata": {},
   "outputs": [],
   "source": [
    "def convert2(a):\n",
    "    for i in range(len(a)):\n",
    "        if type(a[i][0]) is not float:\n",
    "            a[i][0] = float(a[i][0].replace(',', '.'))\n",
    "        a[i][1] = str_to_seconds(a[i][1])"
   ]
  },
  {
   "cell_type": "code",
   "execution_count": 39,
   "metadata": {},
   "outputs": [
    {
     "data": {
      "text/plain": [
       "array([[0.1, 76],\n",
       "       [0.2, 86],\n",
       "       [0.3, 93],\n",
       "       [0.4, 105],\n",
       "       [0.5, 107],\n",
       "       [0.6, 117],\n",
       "       [0.7, 121],\n",
       "       [0.8, 123],\n",
       "       [0.9, 136],\n",
       "       [1.0, 142],\n",
       "       [1.1, 154],\n",
       "       [1.2, 156],\n",
       "       [1.3, 165],\n",
       "       [1.4, 180]], dtype=object)"
      ]
     },
     "execution_count": 39,
     "metadata": {},
     "output_type": "execute_result"
    }
   ],
   "source": [
    "emp2 = np.array(empty_data)\n",
    "convert2(emp2)\n",
    "emp2"
   ]
  },
  {
   "cell_type": "code",
   "execution_count": 40,
   "metadata": {},
   "outputs": [
    {
     "data": {
      "text/plain": [
       "array([[0.1, 159],\n",
       "       [0.2, 128],\n",
       "       [0.3, 137],\n",
       "       [0.4, 150],\n",
       "       [0.5, 164],\n",
       "       [0.6, 154],\n",
       "       [0.7, 178],\n",
       "       [0.8, 181]], dtype=object)"
      ]
     },
     "execution_count": 40,
     "metadata": {},
     "output_type": "execute_result"
    }
   ],
   "source": [
    "al2 = np.array(al_data)\n",
    "convert2(al2)\n",
    "al2"
   ]
  },
  {
   "cell_type": "code",
   "execution_count": 41,
   "metadata": {},
   "outputs": [
    {
     "data": {
      "text/plain": [
       "array([[0.1, 111],\n",
       "       [0.2, 133],\n",
       "       [0.3, 144],\n",
       "       [0.4, 149],\n",
       "       [0.5, 161],\n",
       "       [0.6, 164]], dtype=object)"
      ]
     },
     "execution_count": 41,
     "metadata": {},
     "output_type": "execute_result"
    }
   ],
   "source": [
    "fe2 = np.array(fe_data)\n",
    "convert2(fe2)\n",
    "fe2"
   ]
  },
  {
   "cell_type": "code",
   "execution_count": 45,
   "metadata": {},
   "outputs": [
    {
     "data": {
      "text/plain": [
       "[18.144,\n",
       " 18.244,\n",
       " 18.344,\n",
       " 18.444,\n",
       " 18.544,\n",
       " 18.644,\n",
       " 18.744,\n",
       " 18.844,\n",
       " 18.944,\n",
       " 19.044,\n",
       " 19.144,\n",
       " 19.244,\n",
       " 19.344,\n",
       " 19.444]"
      ]
     },
     "execution_count": 45,
     "metadata": {},
     "output_type": "execute_result"
    }
   ],
   "source": [
    "emp2 = np.transpose(emp2)\n",
    "emp_r = []\n",
    "emp_s = 18.044\n",
    "for i in range(len(emp2[0])):\n",
    "    emp_s += 0.1\n",
    "    emp_r.append(round(emp_s, 3))\n",
    "emp_r"
   ]
  },
  {
   "cell_type": "code",
   "execution_count": 46,
   "metadata": {
    "scrolled": true
   },
   "outputs": [
    {
     "data": {
      "text/plain": [
       "[<matplotlib.lines.Line2D at 0x11685a320>]"
      ]
     },
     "execution_count": 46,
     "metadata": {},
     "output_type": "execute_result"
    },
    {
     "data": {
      "image/png": "[encoded data removed]",
      "text/plain": [
       "<Figure size 432x288 with 1 Axes>"
      ]
     },
     "metadata": {
      "needs_background": "light"
     },
     "output_type": "display_data"
    }
   ],
   "source": [
    "emp_drdt = emp2[0] / emp2[1]\n",
    "plt.plot(emp_r, emp_drdt)"
   ]
  },
  {
   "cell_type": "code",
   "execution_count": 47,
   "metadata": {},
   "outputs": [
    {
     "data": {
      "text/plain": [
       "(22.0, 100000.0, 0.00428)"
      ]
     },
     "execution_count": 47,
     "metadata": {},
     "output_type": "execute_result"
    }
   ],
   "source": [
    "t_k = 22.\n",
    "p_0 = 1e5\n",
    "alpha = 4.28e-3\n",
    "t_k, p_0, alpha"
   ]
  },
  {
   "cell_type": "code",
   "execution_count": 48,
   "metadata": {},
   "outputs": [
    {
     "data": {
      "text/plain": [
       "array([5393982.890984864, 3068678.950062148, 2224429.6263800543,\n",
       "       1893857.7538933977, 1552315.9757256708, 1422121.298530379,\n",
       "       1267396.6095321656, 1133316.3522702348, 1119775.6493058095,\n",
       "       1057814.3452511516, 1048391.8988082181, 978591.942677488,\n",
       "       960394.8234261901, 977896.7818757246], dtype=object)"
      ]
     },
     "execution_count": 48,
     "metadata": {},
     "output_type": "execute_result"
    }
   ],
   "source": [
    "emp_c = (p_0 * np.array(emp_r) * alpha) / (emp_drdt * (1. + alpha * t_k))\n",
    "emp_c"
   ]
  },
  {
   "cell_type": "code",
   "execution_count": 49,
   "metadata": {
    "scrolled": true
   },
   "outputs": [
    {
     "data": {
      "text/plain": [
       "[<matplotlib.lines.Line2D at 0x1168b8f60>]"
      ]
     },
     "execution_count": 49,
     "metadata": {},
     "output_type": "execute_result"
    },
    {
     "data": {
      "image/png": "[encoded data removed]",
      "text/plain": [
       "<Figure size 432x288 with 1 Axes>"
      ]
     },
     "metadata": {
      "needs_background": "light"
     },
     "output_type": "display_data"
    }
   ],
   "source": [
    "plt.plot(emp_r, emp_c)"
   ]
  },
  {
   "cell_type": "code",
   "execution_count": 51,
   "metadata": {},
   "outputs": [],
   "source": [
    "al_m = 0.2947\n",
    "fe_m = 0.8165"
   ]
  },
  {
   "cell_type": "code",
   "execution_count": null,
   "metadata": {},
   "outputs": [],
   "source": []
  }
 ],
 "metadata": {
  "kernelspec": {
   "display_name": "Python 3",
   "language": "python",
   "name": "python3"
  },
  "language_info": {
   "codemirror_mode": {
    "name": "ipython",
    "version": 3
   },
   "file_extension": ".py",
   "mimetype": "text/x-python",
   "name": "python",
   "nbconvert_exporter": "python",
   "pygments_lexer": "ipython3",
   "version": "3.7.2"
  }
 },
 "nbformat": 4,
 "nbformat_minor": 2
}
