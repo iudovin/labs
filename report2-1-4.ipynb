{
 "cells": [
  {
   "cell_type": "code",
   "execution_count": 1,
   "metadata": {},
   "outputs": [],
   "source": [
    "import pandas as pd\n",
    "import numpy as np"
   ]
  },
  {
   "cell_type": "code",
   "execution_count": 2,
   "metadata": {},
   "outputs": [
    {
     "name": "stdout",
     "output_type": "stream",
     "text": [
      "1\n",
      "Empty\n",
      "----\n",
      " [[0.1 0.1 0.1 0.1 0.1 0.1 0.1 0.1 0.1 0.1 0.1 0.1 0.1 0.1]\n",
      " [76 86 93 105 107 117 121 123 136 142 154 156 165 180]]\n",
      "----\n",
      "Al\n",
      "----\n",
      " [[0.1 0.1 0.1 0.1 0.1 0.1 0.1 0.1]\n",
      " [159 128 137 150 164 154 178 181]]\n",
      "----\n",
      "Fe\n",
      "----\n",
      " [[0.1 0.1 0.1 0.1 0.1 0.1]\n",
      " [111 133 144 149 161 164]]\n",
      "\n",
      "2\n",
      "Empty\n",
      "----\n",
      " [[0.1 0.2 0.3 0.4 0.5 0.6 0.7 0.8 0.9 1.0 1.1 1.2 1.3 1.4]\n",
      " [76 162 255 360 467 584 705 828 964 1106 1260 1416 1581 1761]]\n",
      "----\n",
      "Al\n",
      "----\n",
      " [[0.1 0.2 0.3 0.4 0.5 0.6 0.7 0.8]\n",
      " [159 287 424 574 738 892 1070 1251]]\n",
      "----\n",
      "Fe\n",
      "----\n",
      " [[0.1 0.2 0.3 0.4 0.5 0.6]\n",
      " [111 244 388 537 698 862]]\n"
     ]
    }
   ],
   "source": [
    "emp_csv = pd.read_csv('empty_data.csv', header=0, sep=';')\n",
    "al_csv = pd.read_csv('al_data.csv', header=0, sep=';')\n",
    "fe_csv = pd.read_csv('fe_data.csv', header=0, sep=';')    \n",
    "\n",
    "emp1 = np.array(emp_csv)\n",
    "al1 = np.array(al_csv)\n",
    "fe1 = np.array(fe_csv)\n",
    "\n",
    "def str_to_seconds(t):\n",
    "    if type(t) is not int:\n",
    "        m, s = map(int, t.split(':'))\n",
    "        return 60 * m + s\n",
    "    else:\n",
    "        return t\n",
    "\n",
    "def convert1(a):\n",
    "    for i in range(len(a)):\n",
    "        #if type(a[i][0]) is not float:\n",
    "        #    a[i][0] = float(a[i][0].replace(',', '.'))\n",
    "        a[i, 0] = 0.1\n",
    "        a[i, 1] = str_to_seconds(a[i][1])\n",
    "        \n",
    "convert1(emp1)\n",
    "convert1(al1)\n",
    "convert1(fe1)\n",
    "\n",
    "emp2 = emp1.copy()\n",
    "al2 = al1.copy()\n",
    "fe2 = fe1.copy()\n",
    "\n",
    "emp1 = np.transpose(emp1)\n",
    "al1 = np.transpose(al1)\n",
    "fe1 = np.transpose(fe1)\n",
    "\n",
    "emp_data = []\n",
    "al_data = []\n",
    "fe_data = []\n",
    "\n",
    "emp_data.append(emp1)\n",
    "al_data.append(al1)\n",
    "fe_data.append(fe1)\n",
    "\n",
    "print('1\\nEmpty\\n----\\n', emp1)\n",
    "print('----\\nAl\\n----\\n', al1)\n",
    "print('----\\nFe\\n----\\n', fe1)\n",
    "\n",
    "emp_dr = emp1[0]\n",
    "emp_dt = emp1[1]\n",
    "al_dr = al1[0]\n",
    "al_dt = al1[1]\n",
    "fe_dr = fe1[0]\n",
    "fe_dt = fe1[1]\n",
    "\n",
    "r = 0\n",
    "\n",
    "def convert2(a):\n",
    "    a[0, 0] += r\n",
    "    for i in range(1, len(a)):\n",
    "        a[i, 0] += a[i-1, 0]\n",
    "        a[i, 1] += a[i-1, 1]\n",
    "\n",
    "convert2(emp2)\n",
    "convert2(al2)\n",
    "convert2(fe2)\n",
    "\n",
    "emp2 = np.transpose(emp2)\n",
    "al2 = np.transpose(al2)\n",
    "fe2 = np.transpose(fe2)\n",
    "\n",
    "emp2[0] = [round(i, 3) for i in emp2[0]]\n",
    "al2[0] = [round(i, 3)for i in al2[0]]\n",
    "fe2[0] = [round(i, 3)for i in fe2[0]]\n",
    "\n",
    "emp_data.append(emp2)\n",
    "al_data.append(al2)\n",
    "fe_data.append(fe2)\n",
    "\n",
    "emp_r = emp2[0]\n",
    "emp_t = emp2[1]\n",
    "al_r = al2[0]\n",
    "al_t = al2[1]\n",
    "fe_r = fe2[0]\n",
    "fe_t = fe2[1]\n",
    "\n",
    "print('\\n2\\nEmpty\\n----\\n', emp2)\n",
    "print('----\\nAl\\n----\\n', al2)\n",
    "print('----\\nFe\\n----\\n', fe2)"
   ]
  },
  {
   "cell_type": "code",
   "execution_count": 3,
   "metadata": {},
   "outputs": [],
   "source": [
    "%matplotlib inline\n",
    "import matplotlib.pyplot as plt"
   ]
  },
  {
   "cell_type": "code",
   "execution_count": 4,
   "metadata": {},
   "outputs": [
    {
     "data": {
      "image/png": "[encoded data removed]",
      "text/plain": [
       "<Figure size 432x288 with 1 Axes>"
      ]
     },
     "metadata": {
      "needs_background": "light"
     },
     "output_type": "display_data"
    }
   ],
   "source": [
    "plt.plot(emp_t, emp_r)\n",
    "plt.xlabel('$t$')\n",
    "plt.ylabel('$\\Delta R$')\n",
    "plt.show()"
   ]
  },
  {
   "cell_type": "code",
   "execution_count": 5,
   "metadata": {},
   "outputs": [
    {
     "data": {
      "image/png": "[encoded data removed]",
      "text/plain": [
       "<Figure size 432x288 with 1 Axes>"
      ]
     },
     "metadata": {
      "needs_background": "light"
     },
     "output_type": "display_data"
    }
   ],
   "source": [
    "plt.plot(emp_r, emp_dr / emp_dt)\n",
    "plt.xlabel('$\\Delta R$')\n",
    "plt.ylabel('$dR/dt$')\n",
    "plt.show()"
   ]
  },
  {
   "cell_type": "code",
   "execution_count": 6,
   "metadata": {},
   "outputs": [
    {
     "data": {
      "image/png": "[encoded data removed]",
      "text/plain": [
       "<Figure size 432x288 with 1 Axes>"
      ]
     },
     "metadata": {
      "needs_background": "light"
     },
     "output_type": "display_data"
    },
    {
     "name": "stdout",
     "output_type": "stream",
     "text": [
      "[0.00157, -0.00298, 0.00513, -0.00432, 0.00131]\n",
      "0.0015666997280138816\n"
     ]
    }
   ],
   "source": [
    "from scipy import linalg\n",
    "\n",
    "def approx(a, b, step): \n",
    "    x = [i for i in a[::step]]\n",
    "    y = [i for i in b[::step]]\n",
    "    n = len(x)\n",
    "    x = np.array([[i ** j for j in range(n)] for i in x])\n",
    "    return linalg.solve(x, y)\n",
    "\n",
    "a = approx(emp_r, emp_dr / emp_dt, 3)\n",
    "\n",
    "def f(x):\n",
    "    n = len(a)\n",
    "    s = 0.\n",
    "    for i in range(n):\n",
    "        s += a[i] * x ** i\n",
    "    return s\n",
    "\n",
    "x = np.arange(0, 1.4, 0.01)\n",
    "y = [f(i) for i in x]\n",
    "\n",
    "plt.plot(emp_r, emp_dr / emp_dt)\n",
    "plt.plot(x, y)\n",
    "plt.xlabel('$\\Delta R$')\n",
    "plt.ylabel('$dR/dt$')\n",
    "plt.show()\n",
    "\n",
    "print([round(i, 5) for i in a])\n",
    "drdt0 = f(r)\n",
    "print(drdt0)"
   ]
  },
  {
   "cell_type": "markdown",
   "metadata": {},
   "source": [
    "Аппроксимация $\\frac{dR}{dt} = f(R)$ в окрестности $R_K$\n",
    "\n",
    "$$ f(x) \\approx 0,0016 - 0,003x + 0,0051x^2 - 0,0043x^3 + 0,0013x^4 $$\n",
    "\n",
    "$$ f(R_K) \\approx 0,0016 $$"
   ]
  },
  {
   "cell_type": "markdown",
   "metadata": {},
   "source": [
    "$$ C = \\frac{PR\\alpha}{\\left(\\frac{dR}{dt}\\right)_{T_\\text{к}}(1 + \\alpha\\Delta T_\\text{к})} $$ "
   ]
  },
  {
   "cell_type": "code",
   "execution_count": 7,
   "metadata": {},
   "outputs": [
    {
     "name": "stdout",
     "output_type": "stream",
     "text": [
      "450.51575727059486\n"
     ]
    }
   ],
   "source": [
    "tk = 22.\n",
    "p0 = 10\n",
    "rk = 18.044\n",
    "alpha = 4.28e-3\n",
    "\n",
    "c0 = (p0 * rk * alpha) / (drdt0 * (1. + alpha * tk))\n",
    "print(c0)"
   ]
  },
  {
   "cell_type": "markdown",
   "metadata": {},
   "source": [
    "Для удобства все считаем в СИ.\n",
    "\n",
    "$$\n",
    "C_0 \\approx 450,5 \\hspace{5pt} \\frac{\\text{Вт}\\cdot\\text{Ом}\\cdot\\text{К}^{-1}}{\\frac{\\text{Ом}}{\\text{с}}} = \n",
    "450,5 \\hspace{5pt} \\frac{\\text{Вт}\\cdot\\text{с}}{\\text{К}} =\n",
    "450,5 \\hspace{5pt} \\frac{\\text{Дж}}{\\text{К}}.\n",
    "$$\n",
    "\n",
    "Теперь те же опыты для алюминия"
   ]
  },
  {
   "cell_type": "code",
   "execution_count": 8,
   "metadata": {},
   "outputs": [
    {
     "data": {
      "image/png": "[encoded data removed]",
      "text/plain": [
       "<Figure size 432x288 with 1 Axes>"
      ]
     },
     "metadata": {
      "needs_background": "light"
     },
     "output_type": "display_data"
    },
    {
     "name": "stdout",
     "output_type": "stream",
     "text": [
      "[0.00093, -0.00084, 0.00045]\n",
      "0.0009315699126092384\n"
     ]
    }
   ],
   "source": [
    "al_r1 = [al_r[i] for i in range(1, len(al_r))]\n",
    "al_dr1 = [al_dr[i] for i in range(1, len(al_dr))]\n",
    "al_dt1 = [al_dt[i] for i in range(1, len(al_dt))]\n",
    "\n",
    "al_r1.pop(4)\n",
    "al_dr1.pop(4)\n",
    "al_dt1.pop(4)\n",
    "\n",
    "al_r1 = np.array(al_r1) \n",
    "al_dr1 = np.array(al_dr1) \n",
    "al_dt1 = np.array(al_dt1) \n",
    "\n",
    "a = approx(al_r1, al_dr1 / al_dt1, 2)\n",
    "\n",
    "x = np.arange(0, 0.8, 0.01)\n",
    "y = [f(i) for i in x]\n",
    "\n",
    "plt.plot(al_r1, al_dr1 / al_dt1)\n",
    "plt.plot(x, y)\n",
    "plt.xlabel('$\\Delta R$')\n",
    "plt.ylabel('$dR/dt$')\n",
    "plt.show()\n",
    "\n",
    "print([round(i, 5) for i in a])\n",
    "al_drdt0 = f(r)\n",
    "print(al_drdt0)"
   ]
  },
  {
   "cell_type": "markdown",
   "metadata": {},
   "source": [
    "$$ f(x) \\approx 0,00093 - 0,00084x + 0,00045x^2 $$\n",
    "\n",
    "$$ f(R_K) \\approx 9,3 \\cdot 10^{-4} $$"
   ]
  },
  {
   "cell_type": "code",
   "execution_count": 9,
   "metadata": {
    "scrolled": true
   },
   "outputs": [
    {
     "name": "stdout",
     "output_type": "stream",
     "text": [
      "307.15460630401464\n",
      "1042.2619827078881\n",
      "28.141073533112976\n"
     ]
    }
   ],
   "source": [
    "m_al = 0.2947\n",
    "mm_al = 27 / 1000\n",
    "c_al = (p0 * rk * alpha) / (al_drdt0 * (1. + alpha * tk))\n",
    "print(c_al - c0)\n",
    "print((c_al - c0) / m_al)\n",
    "print((c_al - c0) / (m_al / mm_al))"
   ]
  },
  {
   "cell_type": "markdown",
   "metadata": {},
   "source": [
    "$$\n",
    "C_{\\text{Al}} \\approx 307,1 \\hspace{5pt} \\frac{\\text{Дж}}{\\text{К}}.\n",
    "$$\n",
    "\n",
    "$$\n",
    "C_{\\text{Al}}^\\text{уд} \\approx 1042,3 \\hspace{5pt} \\frac{\\text{Дж}}{\\text{К}\\cdot\\text{кг}}.\n",
    "$$\n",
    "\n",
    "$$\n",
    "C_{\\text{Al}}^\\nu \\approx 28,1 \\hspace{5pt} \\frac{\\text{Дж}}{\\text{К}\\cdot\\text{моль}}.\n",
    "$$\n",
    "\n",
    "И для железа"
   ]
  },
  {
   "cell_type": "code",
   "execution_count": 10,
   "metadata": {},
   "outputs": [
    {
     "data": {
      "image/png": "[encoded data removed]",
      "text/plain": [
       "<Figure size 432x288 with 1 Axes>"
      ]
     },
     "metadata": {
      "needs_background": "light"
     },
     "output_type": "display_data"
    },
    {
     "name": "stdout",
     "output_type": "stream",
     "text": [
      "[0.001, -0.002, 0.002]\n",
      "0.0010540528882920187\n"
     ]
    }
   ],
   "source": [
    "a = approx(fe_r, fe_dr / fe_dt, 2)\n",
    "\n",
    "x = np.arange(0, 0.6, 0.01)\n",
    "y = [f(i) for i in x]\n",
    "\n",
    "plt.plot(fe_r, fe_dr / fe_dt)\n",
    "plt.plot(x, y)\n",
    "plt.xlabel('$\\Delta R$')\n",
    "plt.ylabel('$dR/dt$')\n",
    "plt.show()\n",
    "\n",
    "print([round(i, 3) for i in a])\n",
    "fe_drdt0 = f(r)\n",
    "print(fe_drdt0)"
   ]
  },
  {
   "cell_type": "markdown",
   "metadata": {},
   "source": [
    "$$ f(x) \\approx 0,001 - 0,002x + 0,002x^2 $$\n",
    "\n",
    "$$ f(R_K) \\approx 0,001 $$"
   ]
  },
  {
   "cell_type": "code",
   "execution_count": 11,
   "metadata": {},
   "outputs": [
    {
     "name": "stdout",
     "output_type": "stream",
     "text": [
      "219.1118508141572\n",
      "268.35499181158264\n",
      "15.027879541448627\n"
     ]
    }
   ],
   "source": [
    "m_fe = 0.8165\n",
    "mm_fe = 56 / 1000\n",
    "c_fe = (p0 * rk * alpha) / (fe_drdt0 * (1. + alpha * tk))\n",
    "print(c_fe - c0)\n",
    "print((c_fe - c0) / m_fe)\n",
    "print((c_fe - c0) / (m_fe / mm_fe))"
   ]
  },
  {
   "cell_type": "markdown",
   "metadata": {},
   "source": [
    "$$\n",
    "C_{\\text{Fe}} \\approx 219,1 \\hspace{5pt} \\frac{\\text{Дж}}{\\text{К}}.\n",
    "$$\n",
    "\n",
    "$$\n",
    "C_{\\text{Fe}}^\\text{уд} \\approx 268,4 \\hspace{5pt} \\frac{\\text{Дж}}{\\text{К}\\cdot\\text{кг}}.\n",
    "$$\n",
    "\n",
    "$$\n",
    "C_{\\text{Fe}}^\\nu \\approx 15,0 \\hspace{5pt} \\frac{\\text{Дж}}{\\text{К}\\cdot\\text{моль}}.\n",
    "$$"
   ]
  },
  {
   "cell_type": "code",
   "execution_count": null,
   "metadata": {},
   "outputs": [],
   "source": []
  }
 ],
 "metadata": {
  "kernelspec": {
   "display_name": "Python 3",
   "language": "python",
   "name": "python3"
  },
  "language_info": {
   "codemirror_mode": {
    "name": "ipython",
    "version": 3
   },
   "file_extension": ".py",
   "mimetype": "text/x-python",
   "name": "python",
   "nbconvert_exporter": "python",
   "pygments_lexer": "ipython3",
   "version": "3.7.2"
  }
 },
 "nbformat": 4,
 "nbformat_minor": 2
}
